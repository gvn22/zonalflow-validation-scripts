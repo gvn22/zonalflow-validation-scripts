{
 "cells": [
  {
   "cell_type": "code",
   "execution_count": null,
   "id": "0d173bd5",
   "metadata": {},
   "outputs": [],
   "source": [
    "import numpy as np\n",
    "\n",
    "import matplotlib as mpl\n",
    "import matplotlib.pyplot as plt\n",
    "import matplotlib.pylab as pl\n",
    "\n",
    "from matplotlib.colors import LogNorm"
   ]
  },
  {
   "cell_type": "code",
   "execution_count": null,
   "id": "7239daba",
   "metadata": {},
   "outputs": [],
   "source": [
    "dn = \"data/\"\n",
    "M,N = 6,6"
   ]
  },
  {
   "cell_type": "code",
   "execution_count": null,
   "id": "ee287b59",
   "metadata": {},
   "outputs": [],
   "source": [
    "ce2 = np.load(dn+\"ce2.npz\",allow_pickle=True)\n",
    "ce2_pos = np.load(dn+\"ce2_pos.npz\",allow_pickle=True)"
   ]
  },
  {
   "cell_type": "code",
   "execution_count": null,
   "id": "8275793d",
   "metadata": {},
   "outputs": [],
   "source": [
    "fig,ax = plt.subplots(1,2,sharey='row',figsize=(6,4))\n",
    "    \n",
    "ax[0].set_title(f'CE2',fontsize=14)\n",
    "ax[0].plot(ce2['t'],ce2['Emt'][0,:],'k',label='0')\n",
    "for i,x in enumerate(ce2['Emt'][1:,:]):\n",
    "    ax[0].plot(ce2['t'],x,label=i+1)\n",
    "\n",
    "ax[1].set_title(f'CE2 w/ Positivity',fontsize=14)\n",
    "ax[1].plot(ce2_pos['t'],ce2_pos['Emt'][0,:],'k',label='0')\n",
    "for i,x in enumerate(ce2_pos['Emt'][1:,:]):\n",
    "    ax[1].plot(ce2_pos['t'],x,label=i+1)\n",
    "\n",
    "ax[0].legend(bbox_to_anchor=(0.99,0.85),ncol=1)\n",
    "\n",
    "for a in ax:\n",
    "    a.set_yscale('log')\n",
    "    a.set_ylim(1e-10,1e5)\n",
    "\n",
    "plt.show()"
   ]
  },
  {
   "cell_type": "code",
   "execution_count": null,
   "id": "0582749a",
   "metadata": {},
   "outputs": [],
   "source": [
    "gce2 = np.load(dn+\"gce2_0.npz\",allow_pickle=True)\n",
    "gce2_pos = np.load(dn+\"gce2_0_pos.npz\",allow_pickle=True)"
   ]
  },
  {
   "cell_type": "code",
   "execution_count": null,
   "id": "74c3a1c0",
   "metadata": {},
   "outputs": [],
   "source": [
    "fig,ax = plt.subplots(1,2,sharey='row',figsize=(6,4))\n",
    "    \n",
    "ax[0].set_title(f'GCE2',fontsize=14)\n",
    "ax[0].plot(gce2['t'],gce2['Emt'][0,:],'k',label='0')\n",
    "for i,x in enumerate(gce2['Emt'][1:,:]):\n",
    "    ax[0].plot(gce2['t'],x,label=i+1)\n",
    "\n",
    "ax[1].set_title(f'GCE2 w/ Positivity',fontsize=14)\n",
    "ax[1].plot(gce2_pos['t'],gce2_pos['Emt'][0,:],'k',label='0')\n",
    "for i,x in enumerate(gce2_pos['Emt'][1:,:]):\n",
    "    ax[1].plot(gce2_pos['t'],x,label=i+1)\n",
    "\n",
    "ax[0].legend(bbox_to_anchor=(0.99,0.85),ncol=1)\n",
    "\n",
    "for a in ax:\n",
    "    a.set_yscale('log')\n",
    "    a.set_ylim(1e-10,1e5)\n",
    "\n",
    "plt.show()"
   ]
  },
  {
   "cell_type": "code",
   "execution_count": null,
   "id": "ce840a88",
   "metadata": {},
   "outputs": [],
   "source": []
  }
 ],
 "metadata": {
  "kernelspec": {
   "display_name": "Python 3 (ipykernel)",
   "language": "python",
   "name": "python3"
  },
  "language_info": {
   "codemirror_mode": {
    "name": "ipython",
    "version": 3
   },
   "file_extension": ".py",
   "mimetype": "text/x-python",
   "name": "python",
   "nbconvert_exporter": "python",
   "pygments_lexer": "ipython3",
   "version": "3.9.8"
  }
 },
 "nbformat": 4,
 "nbformat_minor": 5
}
